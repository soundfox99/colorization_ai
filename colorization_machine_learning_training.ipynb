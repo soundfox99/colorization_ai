{
 "cells": [
  {
   "cell_type": "code",
   "execution_count": 28,
   "id": "cafb597e",
   "metadata": {},
   "outputs": [],
   "source": [
    "import os\n",
    "import numpy as np\n",
    "import cv2\n",
    "from tensorflow.keras.preprocessing.image import ImageDataGenerator\n",
    "from sklearn.model_selection import train_test_split\n",
    "\n",
    "# Folders\n",
    "bw_folder = \"./training_data/filtered_data/Input_2\"\n",
    "color_input_folder = \"./training_data/filtered_data/Input_1\"\n",
    "color_output_folder = \"./training_data/filtered_data/Output\"\n",
    "\n",
    "# List files\n",
    "bw_files = sorted(os.listdir(bw_folder))\n",
    "color_input_files = sorted(os.listdir(color_input_folder))\n",
    "color_output_files = sorted(os.listdir(color_output_folder))\n",
    "\n",
    "# Ensure filenames match\n",
    "assert bw_files == color_input_files == color_output_files, \"Filenames do not match!\"\n",
    "\n",
    "# Split files into training and validation set\n",
    "train_ratio = 0.8\n",
    "bw_train_files, bw_val_files, _, _ = train_test_split(bw_files, bw_files, test_size=1-train_ratio, random_state=42)\n",
    "\n",
    "# Ensure filenames match for training and validation\n",
    "assert set(bw_train_files) & set(bw_val_files) == set(), \"Overlap between training and validation files!\"\n",
    "\n",
    "# Load a batch of images from a list of filenames and folder\n",
    "def load_batch_from_folder(folder, files, start_idx, batch_size, color=True):\n",
    "    images = []\n",
    "    end_idx = min(start_idx + batch_size, len(files))\n",
    "    \n",
    "    for i in range(start_idx, end_idx):\n",
    "        img_path = os.path.join(folder, files[i])\n",
    "        if color:\n",
    "            img = cv2.imread(img_path, cv2.IMREAD_COLOR)\n",
    "            #img = cv2.cvtColor(img, cv2.COLOR_BGR2RGB)\n",
    "        else:\n",
    "            img = cv2.imread(img_path, cv2.IMREAD_GRAYSCALE)\n",
    "            img = np.expand_dims(img, axis=-1)  # Add channel dimension\n",
    "        images.append(img)\n",
    "    return np.array(images)\n",
    "\n",
    "# Separate generators for training and validation\n",
    "def image_data_generator(files, batch_size):\n",
    "    total_images = len(files)\n",
    "    while True:\n",
    "        for start_idx in range(0, total_images, batch_size):\n",
    "            bw_batch = load_batch_from_folder(bw_folder, files, start_idx, batch_size, color=False)\n",
    "            color_input_batch = load_batch_from_folder(color_input_folder, files, start_idx, batch_size)\n",
    "            color_output_batch = load_batch_from_folder(color_output_folder, files, start_idx, batch_size)\n",
    "            yield ([bw_batch, color_input_batch], color_output_batch)\n",
    "\n",
    "# Example of usage\n",
    "batch_size = 1\n",
    "train_generator = image_data_generator(bw_train_files, batch_size)\n",
    "val_generator = image_data_generator(bw_val_files, batch_size)\n",
    "\n",
    "# for bw_batch, color_input_batch, color_output_batch in train_generator:\n",
    "#     print('Train:', bw_batch.shape, color_input_batch.shape, color_output_batch.shape)\n",
    "\n",
    "# for bw_batch, color_input_batch, color_output_batch in val_generator:\n",
    "#     print('Validation:', bw_batch.shape, color_input_batch.shape, color_output_batch.shape)\n"
   ]
  },
  {
   "cell_type": "code",
   "execution_count": 29,
   "id": "e99b61c4",
   "metadata": {},
   "outputs": [],
   "source": [
    "# from tensorflow.keras.preprocessing.image import ImageDataGenerator\n",
    "\n",
    "# batch_size = 32\n",
    "\n",
    "# # Data Augmentation\n",
    "# datagen = ImageDataGenerator(\n",
    "#     rotation_range=20,\n",
    "#     zoom_range=0.15,\n",
    "#     width_shift_range=0.2,\n",
    "#     height_shift_range=0.2,\n",
    "#     shear_range=0.15,\n",
    "#     horizontal_flip=True,\n",
    "#     fill_mode=\"nearest\"\n",
    "# )\n",
    "\n",
    "# # Generator for augmented data\n",
    "# def augmented_data_generator(batch_size):\n",
    "#     base_generator = image_data_generator(batch_size)\n",
    "    \n",
    "#     for bw_batch, color_input_batch, color_output_batch in base_generator:\n",
    "#         # Augment each batch\n",
    "#         # Note: We're using the same seed for both black & white and color input images\n",
    "#         # to ensure they undergo the same transformations.\n",
    "        \n",
    "#         # Augmenting BW images\n",
    "#         bw_gen = datagen.flow(bw_batch, batch_size=batch_size, shuffle=False, seed=42)\n",
    "        \n",
    "#         # Augmenting color input images\n",
    "#         color_input_gen = datagen.flow(color_input_batch, batch_size=batch_size, shuffle=False, seed=42)\n",
    "        \n",
    "#         # Augmenting color output images. Since we need to match outputs with inputs, \n",
    "#         # we're not shuffling and using a consistent seed.\n",
    "#         color_output_gen = datagen.flow(color_output_batch, batch_size=batch_size, shuffle=False, seed=42)\n",
    "        \n",
    "#         yield [next(bw_gen), next(color_input_gen)], next(color_output_gen)\n",
    "\n",
    "# # Example of usage\n",
    "# aug_gen = augmented_data_generator(batch_size)\n",
    "# for (bw_aug_batch, color_input_aug_batch), color_output_aug_batch in aug_gen:\n",
    "#     print(bw_aug_batch.shape, color_input_aug_batch.shape, color_output_aug_batch.shape)\n"
   ]
  },
  {
   "cell_type": "code",
   "execution_count": 40,
   "id": "52438ea6",
   "metadata": {},
   "outputs": [],
   "source": [
    "import tensorflow as tf\n",
    "from tensorflow.keras.layers import Input, Conv2D, Concatenate\n",
    "\n",
    "def SimpleDualInput():\n",
    "    # Black & white input\n",
    "    bw_input = Input(shape=(2400, 1400, 1))\n",
    "    # Colored reference input\n",
    "    color_input = Input(shape=(2400, 1400, 3))\n",
    "\n",
    "    # Merge inputs\n",
    "    merge_layer = Concatenate()([bw_input, color_input]) # This will have 4 channels\n",
    "\n",
    "    # Output layer to produce a 3-channel image\n",
    "    outputs = Conv2D(3, (1, 1), activation='sigmoid')(merge_layer)\n",
    "\n",
    "    return tf.keras.Model(inputs=[bw_input, color_input], outputs=outputs)\n",
    "\n",
    "model = SimpleDualInput()\n",
    "model.compile(optimizer='adam', loss='mse', metrics=['accuracy'])\n"
   ]
  },
  {
   "cell_type": "code",
   "execution_count": 41,
   "id": "859f18bb",
   "metadata": {},
   "outputs": [
    {
     "name": "stdout",
     "output_type": "stream",
     "text": [
      "Num GPUs Available:  1\n"
     ]
    }
   ],
   "source": [
    "import tensorflow as tf\n",
    "print(\"Num GPUs Available: \", len(tf.config.experimental.list_physical_devices('GPU')))\n"
   ]
  },
  {
   "cell_type": "code",
   "execution_count": 43,
   "id": "2b6036a4",
   "metadata": {},
   "outputs": [
    {
     "ename": "ResourceExhaustedError",
     "evalue": "Graph execution error:\n\nDetected at node 'model_8/conv2d_51/Relu' defined at (most recent call last):\n    File \"C:\\Python\\anaconda3\\envs\\pipWindows_ml_color\\lib\\runpy.py\", line 197, in _run_module_as_main\n      return _run_code(code, main_globals, None,\n    File \"C:\\Python\\anaconda3\\envs\\pipWindows_ml_color\\lib\\runpy.py\", line 87, in _run_code\n      exec(code, run_globals)\n    File \"C:\\Python\\anaconda3\\envs\\pipWindows_ml_color\\lib\\site-packages\\ipykernel_launcher.py\", line 17, in <module>\n      app.launch_new_instance()\n    File \"C:\\Python\\anaconda3\\envs\\pipWindows_ml_color\\lib\\site-packages\\traitlets\\config\\application.py\", line 992, in launch_instance\n      app.start()\n    File \"C:\\Python\\anaconda3\\envs\\pipWindows_ml_color\\lib\\site-packages\\ipykernel\\kernelapp.py\", line 736, in start\n      self.io_loop.start()\n    File \"C:\\Python\\anaconda3\\envs\\pipWindows_ml_color\\lib\\site-packages\\tornado\\platform\\asyncio.py\", line 195, in start\n      self.asyncio_loop.run_forever()\n    File \"C:\\Python\\anaconda3\\envs\\pipWindows_ml_color\\lib\\asyncio\\base_events.py\", line 601, in run_forever\n      self._run_once()\n    File \"C:\\Python\\anaconda3\\envs\\pipWindows_ml_color\\lib\\asyncio\\base_events.py\", line 1905, in _run_once\n      handle._run()\n    File \"C:\\Python\\anaconda3\\envs\\pipWindows_ml_color\\lib\\asyncio\\events.py\", line 80, in _run\n      self._context.run(self._callback, *self._args)\n    File \"C:\\Python\\anaconda3\\envs\\pipWindows_ml_color\\lib\\site-packages\\ipykernel\\kernelbase.py\", line 516, in dispatch_queue\n      await self.process_one()\n    File \"C:\\Python\\anaconda3\\envs\\pipWindows_ml_color\\lib\\site-packages\\ipykernel\\kernelbase.py\", line 505, in process_one\n      await dispatch(*args)\n    File \"C:\\Python\\anaconda3\\envs\\pipWindows_ml_color\\lib\\site-packages\\ipykernel\\kernelbase.py\", line 412, in dispatch_shell\n      await result\n    File \"C:\\Python\\anaconda3\\envs\\pipWindows_ml_color\\lib\\site-packages\\ipykernel\\kernelbase.py\", line 740, in execute_request\n      reply_content = await reply_content\n    File \"C:\\Python\\anaconda3\\envs\\pipWindows_ml_color\\lib\\site-packages\\ipykernel\\ipkernel.py\", line 422, in do_execute\n      res = shell.run_cell(\n    File \"C:\\Python\\anaconda3\\envs\\pipWindows_ml_color\\lib\\site-packages\\ipykernel\\zmqshell.py\", line 546, in run_cell\n      return super().run_cell(*args, **kwargs)\n    File \"C:\\Python\\anaconda3\\envs\\pipWindows_ml_color\\lib\\site-packages\\IPython\\core\\interactiveshell.py\", line 3009, in run_cell\n      result = self._run_cell(\n    File \"C:\\Python\\anaconda3\\envs\\pipWindows_ml_color\\lib\\site-packages\\IPython\\core\\interactiveshell.py\", line 3064, in _run_cell\n      result = runner(coro)\n    File \"C:\\Python\\anaconda3\\envs\\pipWindows_ml_color\\lib\\site-packages\\IPython\\core\\async_helpers.py\", line 129, in _pseudo_sync_runner\n      coro.send(None)\n    File \"C:\\Python\\anaconda3\\envs\\pipWindows_ml_color\\lib\\site-packages\\IPython\\core\\interactiveshell.py\", line 3269, in run_cell_async\n      has_raised = await self.run_ast_nodes(code_ast.body, cell_name,\n    File \"C:\\Python\\anaconda3\\envs\\pipWindows_ml_color\\lib\\site-packages\\IPython\\core\\interactiveshell.py\", line 3448, in run_ast_nodes\n      if await self.run_code(code, result, async_=asy):\n    File \"C:\\Python\\anaconda3\\envs\\pipWindows_ml_color\\lib\\site-packages\\IPython\\core\\interactiveshell.py\", line 3508, in run_code\n      exec(code_obj, self.user_global_ns, self.user_ns)\n    File \"C:\\Users\\Persephone\\AppData\\Local\\Temp\\ipykernel_9496\\3903460651.py\", line 7, in <module>\n      history = model.fit(\n    File \"C:\\Python\\anaconda3\\envs\\pipWindows_ml_color\\lib\\site-packages\\keras\\utils\\traceback_utils.py\", line 65, in error_handler\n      return fn(*args, **kwargs)\n    File \"C:\\Python\\anaconda3\\envs\\pipWindows_ml_color\\lib\\site-packages\\keras\\engine\\training.py\", line 1564, in fit\n      tmp_logs = self.train_function(iterator)\n    File \"C:\\Python\\anaconda3\\envs\\pipWindows_ml_color\\lib\\site-packages\\keras\\engine\\training.py\", line 1160, in train_function\n      return step_function(self, iterator)\n    File \"C:\\Python\\anaconda3\\envs\\pipWindows_ml_color\\lib\\site-packages\\keras\\engine\\training.py\", line 1146, in step_function\n      outputs = model.distribute_strategy.run(run_step, args=(data,))\n    File \"C:\\Python\\anaconda3\\envs\\pipWindows_ml_color\\lib\\site-packages\\keras\\engine\\training.py\", line 1135, in run_step\n      outputs = model.train_step(data)\n    File \"C:\\Python\\anaconda3\\envs\\pipWindows_ml_color\\lib\\site-packages\\keras\\engine\\training.py\", line 993, in train_step\n      y_pred = self(x, training=True)\n    File \"C:\\Python\\anaconda3\\envs\\pipWindows_ml_color\\lib\\site-packages\\keras\\utils\\traceback_utils.py\", line 65, in error_handler\n      return fn(*args, **kwargs)\n    File \"C:\\Python\\anaconda3\\envs\\pipWindows_ml_color\\lib\\site-packages\\keras\\engine\\training.py\", line 557, in __call__\n      return super().__call__(*args, **kwargs)\n    File \"C:\\Python\\anaconda3\\envs\\pipWindows_ml_color\\lib\\site-packages\\keras\\utils\\traceback_utils.py\", line 65, in error_handler\n      return fn(*args, **kwargs)\n    File \"C:\\Python\\anaconda3\\envs\\pipWindows_ml_color\\lib\\site-packages\\keras\\engine\\base_layer.py\", line 1097, in __call__\n      outputs = call_fn(inputs, *args, **kwargs)\n    File \"C:\\Python\\anaconda3\\envs\\pipWindows_ml_color\\lib\\site-packages\\keras\\utils\\traceback_utils.py\", line 96, in error_handler\n      return fn(*args, **kwargs)\n    File \"C:\\Python\\anaconda3\\envs\\pipWindows_ml_color\\lib\\site-packages\\keras\\engine\\functional.py\", line 510, in call\n      return self._run_internal_graph(inputs, training=training, mask=mask)\n    File \"C:\\Python\\anaconda3\\envs\\pipWindows_ml_color\\lib\\site-packages\\keras\\engine\\functional.py\", line 667, in _run_internal_graph\n      outputs = node.layer(*args, **kwargs)\n    File \"C:\\Python\\anaconda3\\envs\\pipWindows_ml_color\\lib\\site-packages\\keras\\utils\\traceback_utils.py\", line 65, in error_handler\n      return fn(*args, **kwargs)\n    File \"C:\\Python\\anaconda3\\envs\\pipWindows_ml_color\\lib\\site-packages\\keras\\engine\\base_layer.py\", line 1097, in __call__\n      outputs = call_fn(inputs, *args, **kwargs)\n    File \"C:\\Python\\anaconda3\\envs\\pipWindows_ml_color\\lib\\site-packages\\keras\\utils\\traceback_utils.py\", line 96, in error_handler\n      return fn(*args, **kwargs)\n    File \"C:\\Python\\anaconda3\\envs\\pipWindows_ml_color\\lib\\site-packages\\keras\\layers\\convolutional\\base_conv.py\", line 314, in call\n      return self.activation(outputs)\n    File \"C:\\Python\\anaconda3\\envs\\pipWindows_ml_color\\lib\\site-packages\\keras\\activations.py\", line 317, in relu\n      return backend.relu(\n    File \"C:\\Python\\anaconda3\\envs\\pipWindows_ml_color\\lib\\site-packages\\keras\\backend.py\", line 5366, in relu\n      x = tf.nn.relu(x)\nNode: 'model_8/conv2d_51/Relu'\nDetected at node 'model_8/conv2d_51/Relu' defined at (most recent call last):\n    File \"C:\\Python\\anaconda3\\envs\\pipWindows_ml_color\\lib\\runpy.py\", line 197, in _run_module_as_main\n      return _run_code(code, main_globals, None,\n    File \"C:\\Python\\anaconda3\\envs\\pipWindows_ml_color\\lib\\runpy.py\", line 87, in _run_code\n      exec(code, run_globals)\n    File \"C:\\Python\\anaconda3\\envs\\pipWindows_ml_color\\lib\\site-packages\\ipykernel_launcher.py\", line 17, in <module>\n      app.launch_new_instance()\n    File \"C:\\Python\\anaconda3\\envs\\pipWindows_ml_color\\lib\\site-packages\\traitlets\\config\\application.py\", line 992, in launch_instance\n      app.start()\n    File \"C:\\Python\\anaconda3\\envs\\pipWindows_ml_color\\lib\\site-packages\\ipykernel\\kernelapp.py\", line 736, in start\n      self.io_loop.start()\n    File \"C:\\Python\\anaconda3\\envs\\pipWindows_ml_color\\lib\\site-packages\\tornado\\platform\\asyncio.py\", line 195, in start\n      self.asyncio_loop.run_forever()\n    File \"C:\\Python\\anaconda3\\envs\\pipWindows_ml_color\\lib\\asyncio\\base_events.py\", line 601, in run_forever\n      self._run_once()\n    File \"C:\\Python\\anaconda3\\envs\\pipWindows_ml_color\\lib\\asyncio\\base_events.py\", line 1905, in _run_once\n      handle._run()\n    File \"C:\\Python\\anaconda3\\envs\\pipWindows_ml_color\\lib\\asyncio\\events.py\", line 80, in _run\n      self._context.run(self._callback, *self._args)\n    File \"C:\\Python\\anaconda3\\envs\\pipWindows_ml_color\\lib\\site-packages\\ipykernel\\kernelbase.py\", line 516, in dispatch_queue\n      await self.process_one()\n    File \"C:\\Python\\anaconda3\\envs\\pipWindows_ml_color\\lib\\site-packages\\ipykernel\\kernelbase.py\", line 505, in process_one\n      await dispatch(*args)\n    File \"C:\\Python\\anaconda3\\envs\\pipWindows_ml_color\\lib\\site-packages\\ipykernel\\kernelbase.py\", line 412, in dispatch_shell\n      await result\n    File \"C:\\Python\\anaconda3\\envs\\pipWindows_ml_color\\lib\\site-packages\\ipykernel\\kernelbase.py\", line 740, in execute_request\n      reply_content = await reply_content\n    File \"C:\\Python\\anaconda3\\envs\\pipWindows_ml_color\\lib\\site-packages\\ipykernel\\ipkernel.py\", line 422, in do_execute\n      res = shell.run_cell(\n    File \"C:\\Python\\anaconda3\\envs\\pipWindows_ml_color\\lib\\site-packages\\ipykernel\\zmqshell.py\", line 546, in run_cell\n      return super().run_cell(*args, **kwargs)\n    File \"C:\\Python\\anaconda3\\envs\\pipWindows_ml_color\\lib\\site-packages\\IPython\\core\\interactiveshell.py\", line 3009, in run_cell\n      result = self._run_cell(\n    File \"C:\\Python\\anaconda3\\envs\\pipWindows_ml_color\\lib\\site-packages\\IPython\\core\\interactiveshell.py\", line 3064, in _run_cell\n      result = runner(coro)\n    File \"C:\\Python\\anaconda3\\envs\\pipWindows_ml_color\\lib\\site-packages\\IPython\\core\\async_helpers.py\", line 129, in _pseudo_sync_runner\n      coro.send(None)\n    File \"C:\\Python\\anaconda3\\envs\\pipWindows_ml_color\\lib\\site-packages\\IPython\\core\\interactiveshell.py\", line 3269, in run_cell_async\n      has_raised = await self.run_ast_nodes(code_ast.body, cell_name,\n    File \"C:\\Python\\anaconda3\\envs\\pipWindows_ml_color\\lib\\site-packages\\IPython\\core\\interactiveshell.py\", line 3448, in run_ast_nodes\n      if await self.run_code(code, result, async_=asy):\n    File \"C:\\Python\\anaconda3\\envs\\pipWindows_ml_color\\lib\\site-packages\\IPython\\core\\interactiveshell.py\", line 3508, in run_code\n      exec(code_obj, self.user_global_ns, self.user_ns)\n    File \"C:\\Users\\Persephone\\AppData\\Local\\Temp\\ipykernel_9496\\3903460651.py\", line 7, in <module>\n      history = model.fit(\n    File \"C:\\Python\\anaconda3\\envs\\pipWindows_ml_color\\lib\\site-packages\\keras\\utils\\traceback_utils.py\", line 65, in error_handler\n      return fn(*args, **kwargs)\n    File \"C:\\Python\\anaconda3\\envs\\pipWindows_ml_color\\lib\\site-packages\\keras\\engine\\training.py\", line 1564, in fit\n      tmp_logs = self.train_function(iterator)\n    File \"C:\\Python\\anaconda3\\envs\\pipWindows_ml_color\\lib\\site-packages\\keras\\engine\\training.py\", line 1160, in train_function\n      return step_function(self, iterator)\n    File \"C:\\Python\\anaconda3\\envs\\pipWindows_ml_color\\lib\\site-packages\\keras\\engine\\training.py\", line 1146, in step_function\n      outputs = model.distribute_strategy.run(run_step, args=(data,))\n    File \"C:\\Python\\anaconda3\\envs\\pipWindows_ml_color\\lib\\site-packages\\keras\\engine\\training.py\", line 1135, in run_step\n      outputs = model.train_step(data)\n    File \"C:\\Python\\anaconda3\\envs\\pipWindows_ml_color\\lib\\site-packages\\keras\\engine\\training.py\", line 993, in train_step\n      y_pred = self(x, training=True)\n    File \"C:\\Python\\anaconda3\\envs\\pipWindows_ml_color\\lib\\site-packages\\keras\\utils\\traceback_utils.py\", line 65, in error_handler\n      return fn(*args, **kwargs)\n    File \"C:\\Python\\anaconda3\\envs\\pipWindows_ml_color\\lib\\site-packages\\keras\\engine\\training.py\", line 557, in __call__\n      return super().__call__(*args, **kwargs)\n    File \"C:\\Python\\anaconda3\\envs\\pipWindows_ml_color\\lib\\site-packages\\keras\\utils\\traceback_utils.py\", line 65, in error_handler\n      return fn(*args, **kwargs)\n    File \"C:\\Python\\anaconda3\\envs\\pipWindows_ml_color\\lib\\site-packages\\keras\\engine\\base_layer.py\", line 1097, in __call__\n      outputs = call_fn(inputs, *args, **kwargs)\n    File \"C:\\Python\\anaconda3\\envs\\pipWindows_ml_color\\lib\\site-packages\\keras\\utils\\traceback_utils.py\", line 96, in error_handler\n      return fn(*args, **kwargs)\n    File \"C:\\Python\\anaconda3\\envs\\pipWindows_ml_color\\lib\\site-packages\\keras\\engine\\functional.py\", line 510, in call\n      return self._run_internal_graph(inputs, training=training, mask=mask)\n    File \"C:\\Python\\anaconda3\\envs\\pipWindows_ml_color\\lib\\site-packages\\keras\\engine\\functional.py\", line 667, in _run_internal_graph\n      outputs = node.layer(*args, **kwargs)\n    File \"C:\\Python\\anaconda3\\envs\\pipWindows_ml_color\\lib\\site-packages\\keras\\utils\\traceback_utils.py\", line 65, in error_handler\n      return fn(*args, **kwargs)\n    File \"C:\\Python\\anaconda3\\envs\\pipWindows_ml_color\\lib\\site-packages\\keras\\engine\\base_layer.py\", line 1097, in __call__\n      outputs = call_fn(inputs, *args, **kwargs)\n    File \"C:\\Python\\anaconda3\\envs\\pipWindows_ml_color\\lib\\site-packages\\keras\\utils\\traceback_utils.py\", line 96, in error_handler\n      return fn(*args, **kwargs)\n    File \"C:\\Python\\anaconda3\\envs\\pipWindows_ml_color\\lib\\site-packages\\keras\\layers\\convolutional\\base_conv.py\", line 314, in call\n      return self.activation(outputs)\n    File \"C:\\Python\\anaconda3\\envs\\pipWindows_ml_color\\lib\\site-packages\\keras\\activations.py\", line 317, in relu\n      return backend.relu(\n    File \"C:\\Python\\anaconda3\\envs\\pipWindows_ml_color\\lib\\site-packages\\keras\\backend.py\", line 5366, in relu\n      x = tf.nn.relu(x)\nNode: 'model_8/conv2d_51/Relu'\n2 root error(s) found.\n  (0) RESOURCE_EXHAUSTED:  OOM when allocating tensor with shape[1,64,2048,1400] and type float on /job:localhost/replica:0/task:0/device:GPU:0 by allocator GPU_0_bfc\n\t [[{{node model_8/conv2d_51/Relu}}]]\nHint: If you want to see a list of allocated tensors when OOM happens, add report_tensor_allocations_upon_oom to RunOptions for current allocation info. This isn't available when running in Eager mode.\n\n\t [[Cast_3/_30]]\nHint: If you want to see a list of allocated tensors when OOM happens, add report_tensor_allocations_upon_oom to RunOptions for current allocation info. This isn't available when running in Eager mode.\n\n  (1) RESOURCE_EXHAUSTED:  OOM when allocating tensor with shape[1,64,2048,1400] and type float on /job:localhost/replica:0/task:0/device:GPU:0 by allocator GPU_0_bfc\n\t [[{{node model_8/conv2d_51/Relu}}]]\nHint: If you want to see a list of allocated tensors when OOM happens, add report_tensor_allocations_upon_oom to RunOptions for current allocation info. This isn't available when running in Eager mode.\n\n0 successful operations.\n0 derived errors ignored. [Op:__inference_train_function_8247]",
     "output_type": "error",
     "traceback": [
      "\u001b[1;31m---------------------------------------------------------------------------\u001b[0m",
      "\u001b[1;31mResourceExhaustedError\u001b[0m                    Traceback (most recent call last)",
      "Cell \u001b[1;32mIn[43], line 7\u001b[0m\n\u001b[0;32m      5\u001b[0m \u001b[38;5;66;03m# 3. Train the model\u001b[39;00m\n\u001b[0;32m      6\u001b[0m \u001b[38;5;28;01mwith\u001b[39;00m tf\u001b[38;5;241m.\u001b[39mdevice(\u001b[38;5;124m'\u001b[39m\u001b[38;5;124m/GPU:0\u001b[39m\u001b[38;5;124m'\u001b[39m):\n\u001b[1;32m----> 7\u001b[0m     history \u001b[38;5;241m=\u001b[39m \u001b[43mmodel\u001b[49m\u001b[38;5;241;43m.\u001b[39;49m\u001b[43mfit\u001b[49m\u001b[43m(\u001b[49m\n\u001b[0;32m      8\u001b[0m \u001b[43m        \u001b[49m\u001b[43mtrain_generator\u001b[49m\u001b[43m,\u001b[49m\n\u001b[0;32m      9\u001b[0m \u001b[43m        \u001b[49m\u001b[43mvalidation_data\u001b[49m\u001b[38;5;241;43m=\u001b[39;49m\u001b[43mval_generator\u001b[49m\u001b[43m,\u001b[49m\n\u001b[0;32m     10\u001b[0m \u001b[43m        \u001b[49m\u001b[43msteps_per_epoch\u001b[49m\u001b[38;5;241;43m=\u001b[39;49m\u001b[43msteps_per_epoch\u001b[49m\u001b[43m,\u001b[49m\n\u001b[0;32m     11\u001b[0m \u001b[43m        \u001b[49m\u001b[43mvalidation_steps\u001b[49m\u001b[38;5;241;43m=\u001b[39;49m\u001b[43mvalidation_steps\u001b[49m\u001b[43m,\u001b[49m\n\u001b[0;32m     12\u001b[0m \u001b[43m        \u001b[49m\u001b[43mepochs\u001b[49m\u001b[38;5;241;43m=\u001b[39;49m\u001b[38;5;241;43m1\u001b[39;49m\u001b[43m,\u001b[49m\n\u001b[0;32m     13\u001b[0m \u001b[43m        \u001b[49m\u001b[43mverbose\u001b[49m\u001b[38;5;241;43m=\u001b[39;49m\u001b[38;5;241;43m1\u001b[39;49m\n\u001b[0;32m     14\u001b[0m \u001b[43m    \u001b[49m\u001b[43m)\u001b[49m\n",
      "File \u001b[1;32mC:\\Python\\anaconda3\\envs\\pipWindows_ml_color\\lib\\site-packages\\keras\\utils\\traceback_utils.py:70\u001b[0m, in \u001b[0;36mfilter_traceback.<locals>.error_handler\u001b[1;34m(*args, **kwargs)\u001b[0m\n\u001b[0;32m     67\u001b[0m     filtered_tb \u001b[38;5;241m=\u001b[39m _process_traceback_frames(e\u001b[38;5;241m.\u001b[39m__traceback__)\n\u001b[0;32m     68\u001b[0m     \u001b[38;5;66;03m# To get the full stack trace, call:\u001b[39;00m\n\u001b[0;32m     69\u001b[0m     \u001b[38;5;66;03m# `tf.debugging.disable_traceback_filtering()`\u001b[39;00m\n\u001b[1;32m---> 70\u001b[0m     \u001b[38;5;28;01mraise\u001b[39;00m e\u001b[38;5;241m.\u001b[39mwith_traceback(filtered_tb) \u001b[38;5;28;01mfrom\u001b[39;00m \u001b[38;5;28;01mNone\u001b[39;00m\n\u001b[0;32m     71\u001b[0m \u001b[38;5;28;01mfinally\u001b[39;00m:\n\u001b[0;32m     72\u001b[0m     \u001b[38;5;28;01mdel\u001b[39;00m filtered_tb\n",
      "File \u001b[1;32mC:\\Python\\anaconda3\\envs\\pipWindows_ml_color\\lib\\site-packages\\tensorflow\\python\\eager\\execute.py:54\u001b[0m, in \u001b[0;36mquick_execute\u001b[1;34m(op_name, num_outputs, inputs, attrs, ctx, name)\u001b[0m\n\u001b[0;32m     52\u001b[0m \u001b[38;5;28;01mtry\u001b[39;00m:\n\u001b[0;32m     53\u001b[0m   ctx\u001b[38;5;241m.\u001b[39mensure_initialized()\n\u001b[1;32m---> 54\u001b[0m   tensors \u001b[38;5;241m=\u001b[39m pywrap_tfe\u001b[38;5;241m.\u001b[39mTFE_Py_Execute(ctx\u001b[38;5;241m.\u001b[39m_handle, device_name, op_name,\n\u001b[0;32m     55\u001b[0m                                       inputs, attrs, num_outputs)\n\u001b[0;32m     56\u001b[0m \u001b[38;5;28;01mexcept\u001b[39;00m core\u001b[38;5;241m.\u001b[39m_NotOkStatusException \u001b[38;5;28;01mas\u001b[39;00m e:\n\u001b[0;32m     57\u001b[0m   \u001b[38;5;28;01mif\u001b[39;00m name \u001b[38;5;129;01mis\u001b[39;00m \u001b[38;5;129;01mnot\u001b[39;00m \u001b[38;5;28;01mNone\u001b[39;00m:\n",
      "\u001b[1;31mResourceExhaustedError\u001b[0m: Graph execution error:\n\nDetected at node 'model_8/conv2d_51/Relu' defined at (most recent call last):\n    File \"C:\\Python\\anaconda3\\envs\\pipWindows_ml_color\\lib\\runpy.py\", line 197, in _run_module_as_main\n      return _run_code(code, main_globals, None,\n    File \"C:\\Python\\anaconda3\\envs\\pipWindows_ml_color\\lib\\runpy.py\", line 87, in _run_code\n      exec(code, run_globals)\n    File \"C:\\Python\\anaconda3\\envs\\pipWindows_ml_color\\lib\\site-packages\\ipykernel_launcher.py\", line 17, in <module>\n      app.launch_new_instance()\n    File \"C:\\Python\\anaconda3\\envs\\pipWindows_ml_color\\lib\\site-packages\\traitlets\\config\\application.py\", line 992, in launch_instance\n      app.start()\n    File \"C:\\Python\\anaconda3\\envs\\pipWindows_ml_color\\lib\\site-packages\\ipykernel\\kernelapp.py\", line 736, in start\n      self.io_loop.start()\n    File \"C:\\Python\\anaconda3\\envs\\pipWindows_ml_color\\lib\\site-packages\\tornado\\platform\\asyncio.py\", line 195, in start\n      self.asyncio_loop.run_forever()\n    File \"C:\\Python\\anaconda3\\envs\\pipWindows_ml_color\\lib\\asyncio\\base_events.py\", line 601, in run_forever\n      self._run_once()\n    File \"C:\\Python\\anaconda3\\envs\\pipWindows_ml_color\\lib\\asyncio\\base_events.py\", line 1905, in _run_once\n      handle._run()\n    File \"C:\\Python\\anaconda3\\envs\\pipWindows_ml_color\\lib\\asyncio\\events.py\", line 80, in _run\n      self._context.run(self._callback, *self._args)\n    File \"C:\\Python\\anaconda3\\envs\\pipWindows_ml_color\\lib\\site-packages\\ipykernel\\kernelbase.py\", line 516, in dispatch_queue\n      await self.process_one()\n    File \"C:\\Python\\anaconda3\\envs\\pipWindows_ml_color\\lib\\site-packages\\ipykernel\\kernelbase.py\", line 505, in process_one\n      await dispatch(*args)\n    File \"C:\\Python\\anaconda3\\envs\\pipWindows_ml_color\\lib\\site-packages\\ipykernel\\kernelbase.py\", line 412, in dispatch_shell\n      await result\n    File \"C:\\Python\\anaconda3\\envs\\pipWindows_ml_color\\lib\\site-packages\\ipykernel\\kernelbase.py\", line 740, in execute_request\n      reply_content = await reply_content\n    File \"C:\\Python\\anaconda3\\envs\\pipWindows_ml_color\\lib\\site-packages\\ipykernel\\ipkernel.py\", line 422, in do_execute\n      res = shell.run_cell(\n    File \"C:\\Python\\anaconda3\\envs\\pipWindows_ml_color\\lib\\site-packages\\ipykernel\\zmqshell.py\", line 546, in run_cell\n      return super().run_cell(*args, **kwargs)\n    File \"C:\\Python\\anaconda3\\envs\\pipWindows_ml_color\\lib\\site-packages\\IPython\\core\\interactiveshell.py\", line 3009, in run_cell\n      result = self._run_cell(\n    File \"C:\\Python\\anaconda3\\envs\\pipWindows_ml_color\\lib\\site-packages\\IPython\\core\\interactiveshell.py\", line 3064, in _run_cell\n      result = runner(coro)\n    File \"C:\\Python\\anaconda3\\envs\\pipWindows_ml_color\\lib\\site-packages\\IPython\\core\\async_helpers.py\", line 129, in _pseudo_sync_runner\n      coro.send(None)\n    File \"C:\\Python\\anaconda3\\envs\\pipWindows_ml_color\\lib\\site-packages\\IPython\\core\\interactiveshell.py\", line 3269, in run_cell_async\n      has_raised = await self.run_ast_nodes(code_ast.body, cell_name,\n    File \"C:\\Python\\anaconda3\\envs\\pipWindows_ml_color\\lib\\site-packages\\IPython\\core\\interactiveshell.py\", line 3448, in run_ast_nodes\n      if await self.run_code(code, result, async_=asy):\n    File \"C:\\Python\\anaconda3\\envs\\pipWindows_ml_color\\lib\\site-packages\\IPython\\core\\interactiveshell.py\", line 3508, in run_code\n      exec(code_obj, self.user_global_ns, self.user_ns)\n    File \"C:\\Users\\Persephone\\AppData\\Local\\Temp\\ipykernel_9496\\3903460651.py\", line 7, in <module>\n      history = model.fit(\n    File \"C:\\Python\\anaconda3\\envs\\pipWindows_ml_color\\lib\\site-packages\\keras\\utils\\traceback_utils.py\", line 65, in error_handler\n      return fn(*args, **kwargs)\n    File \"C:\\Python\\anaconda3\\envs\\pipWindows_ml_color\\lib\\site-packages\\keras\\engine\\training.py\", line 1564, in fit\n      tmp_logs = self.train_function(iterator)\n    File \"C:\\Python\\anaconda3\\envs\\pipWindows_ml_color\\lib\\site-packages\\keras\\engine\\training.py\", line 1160, in train_function\n      return step_function(self, iterator)\n    File \"C:\\Python\\anaconda3\\envs\\pipWindows_ml_color\\lib\\site-packages\\keras\\engine\\training.py\", line 1146, in step_function\n      outputs = model.distribute_strategy.run(run_step, args=(data,))\n    File \"C:\\Python\\anaconda3\\envs\\pipWindows_ml_color\\lib\\site-packages\\keras\\engine\\training.py\", line 1135, in run_step\n      outputs = model.train_step(data)\n    File \"C:\\Python\\anaconda3\\envs\\pipWindows_ml_color\\lib\\site-packages\\keras\\engine\\training.py\", line 993, in train_step\n      y_pred = self(x, training=True)\n    File \"C:\\Python\\anaconda3\\envs\\pipWindows_ml_color\\lib\\site-packages\\keras\\utils\\traceback_utils.py\", line 65, in error_handler\n      return fn(*args, **kwargs)\n    File \"C:\\Python\\anaconda3\\envs\\pipWindows_ml_color\\lib\\site-packages\\keras\\engine\\training.py\", line 557, in __call__\n      return super().__call__(*args, **kwargs)\n    File \"C:\\Python\\anaconda3\\envs\\pipWindows_ml_color\\lib\\site-packages\\keras\\utils\\traceback_utils.py\", line 65, in error_handler\n      return fn(*args, **kwargs)\n    File \"C:\\Python\\anaconda3\\envs\\pipWindows_ml_color\\lib\\site-packages\\keras\\engine\\base_layer.py\", line 1097, in __call__\n      outputs = call_fn(inputs, *args, **kwargs)\n    File \"C:\\Python\\anaconda3\\envs\\pipWindows_ml_color\\lib\\site-packages\\keras\\utils\\traceback_utils.py\", line 96, in error_handler\n      return fn(*args, **kwargs)\n    File \"C:\\Python\\anaconda3\\envs\\pipWindows_ml_color\\lib\\site-packages\\keras\\engine\\functional.py\", line 510, in call\n      return self._run_internal_graph(inputs, training=training, mask=mask)\n    File \"C:\\Python\\anaconda3\\envs\\pipWindows_ml_color\\lib\\site-packages\\keras\\engine\\functional.py\", line 667, in _run_internal_graph\n      outputs = node.layer(*args, **kwargs)\n    File \"C:\\Python\\anaconda3\\envs\\pipWindows_ml_color\\lib\\site-packages\\keras\\utils\\traceback_utils.py\", line 65, in error_handler\n      return fn(*args, **kwargs)\n    File \"C:\\Python\\anaconda3\\envs\\pipWindows_ml_color\\lib\\site-packages\\keras\\engine\\base_layer.py\", line 1097, in __call__\n      outputs = call_fn(inputs, *args, **kwargs)\n    File \"C:\\Python\\anaconda3\\envs\\pipWindows_ml_color\\lib\\site-packages\\keras\\utils\\traceback_utils.py\", line 96, in error_handler\n      return fn(*args, **kwargs)\n    File \"C:\\Python\\anaconda3\\envs\\pipWindows_ml_color\\lib\\site-packages\\keras\\layers\\convolutional\\base_conv.py\", line 314, in call\n      return self.activation(outputs)\n    File \"C:\\Python\\anaconda3\\envs\\pipWindows_ml_color\\lib\\site-packages\\keras\\activations.py\", line 317, in relu\n      return backend.relu(\n    File \"C:\\Python\\anaconda3\\envs\\pipWindows_ml_color\\lib\\site-packages\\keras\\backend.py\", line 5366, in relu\n      x = tf.nn.relu(x)\nNode: 'model_8/conv2d_51/Relu'\nDetected at node 'model_8/conv2d_51/Relu' defined at (most recent call last):\n    File \"C:\\Python\\anaconda3\\envs\\pipWindows_ml_color\\lib\\runpy.py\", line 197, in _run_module_as_main\n      return _run_code(code, main_globals, None,\n    File \"C:\\Python\\anaconda3\\envs\\pipWindows_ml_color\\lib\\runpy.py\", line 87, in _run_code\n      exec(code, run_globals)\n    File \"C:\\Python\\anaconda3\\envs\\pipWindows_ml_color\\lib\\site-packages\\ipykernel_launcher.py\", line 17, in <module>\n      app.launch_new_instance()\n    File \"C:\\Python\\anaconda3\\envs\\pipWindows_ml_color\\lib\\site-packages\\traitlets\\config\\application.py\", line 992, in launch_instance\n      app.start()\n    File \"C:\\Python\\anaconda3\\envs\\pipWindows_ml_color\\lib\\site-packages\\ipykernel\\kernelapp.py\", line 736, in start\n      self.io_loop.start()\n    File \"C:\\Python\\anaconda3\\envs\\pipWindows_ml_color\\lib\\site-packages\\tornado\\platform\\asyncio.py\", line 195, in start\n      self.asyncio_loop.run_forever()\n    File \"C:\\Python\\anaconda3\\envs\\pipWindows_ml_color\\lib\\asyncio\\base_events.py\", line 601, in run_forever\n      self._run_once()\n    File \"C:\\Python\\anaconda3\\envs\\pipWindows_ml_color\\lib\\asyncio\\base_events.py\", line 1905, in _run_once\n      handle._run()\n    File \"C:\\Python\\anaconda3\\envs\\pipWindows_ml_color\\lib\\asyncio\\events.py\", line 80, in _run\n      self._context.run(self._callback, *self._args)\n    File \"C:\\Python\\anaconda3\\envs\\pipWindows_ml_color\\lib\\site-packages\\ipykernel\\kernelbase.py\", line 516, in dispatch_queue\n      await self.process_one()\n    File \"C:\\Python\\anaconda3\\envs\\pipWindows_ml_color\\lib\\site-packages\\ipykernel\\kernelbase.py\", line 505, in process_one\n      await dispatch(*args)\n    File \"C:\\Python\\anaconda3\\envs\\pipWindows_ml_color\\lib\\site-packages\\ipykernel\\kernelbase.py\", line 412, in dispatch_shell\n      await result\n    File \"C:\\Python\\anaconda3\\envs\\pipWindows_ml_color\\lib\\site-packages\\ipykernel\\kernelbase.py\", line 740, in execute_request\n      reply_content = await reply_content\n    File \"C:\\Python\\anaconda3\\envs\\pipWindows_ml_color\\lib\\site-packages\\ipykernel\\ipkernel.py\", line 422, in do_execute\n      res = shell.run_cell(\n    File \"C:\\Python\\anaconda3\\envs\\pipWindows_ml_color\\lib\\site-packages\\ipykernel\\zmqshell.py\", line 546, in run_cell\n      return super().run_cell(*args, **kwargs)\n    File \"C:\\Python\\anaconda3\\envs\\pipWindows_ml_color\\lib\\site-packages\\IPython\\core\\interactiveshell.py\", line 3009, in run_cell\n      result = self._run_cell(\n    File \"C:\\Python\\anaconda3\\envs\\pipWindows_ml_color\\lib\\site-packages\\IPython\\core\\interactiveshell.py\", line 3064, in _run_cell\n      result = runner(coro)\n    File \"C:\\Python\\anaconda3\\envs\\pipWindows_ml_color\\lib\\site-packages\\IPython\\core\\async_helpers.py\", line 129, in _pseudo_sync_runner\n      coro.send(None)\n    File \"C:\\Python\\anaconda3\\envs\\pipWindows_ml_color\\lib\\site-packages\\IPython\\core\\interactiveshell.py\", line 3269, in run_cell_async\n      has_raised = await self.run_ast_nodes(code_ast.body, cell_name,\n    File \"C:\\Python\\anaconda3\\envs\\pipWindows_ml_color\\lib\\site-packages\\IPython\\core\\interactiveshell.py\", line 3448, in run_ast_nodes\n      if await self.run_code(code, result, async_=asy):\n    File \"C:\\Python\\anaconda3\\envs\\pipWindows_ml_color\\lib\\site-packages\\IPython\\core\\interactiveshell.py\", line 3508, in run_code\n      exec(code_obj, self.user_global_ns, self.user_ns)\n    File \"C:\\Users\\Persephone\\AppData\\Local\\Temp\\ipykernel_9496\\3903460651.py\", line 7, in <module>\n      history = model.fit(\n    File \"C:\\Python\\anaconda3\\envs\\pipWindows_ml_color\\lib\\site-packages\\keras\\utils\\traceback_utils.py\", line 65, in error_handler\n      return fn(*args, **kwargs)\n    File \"C:\\Python\\anaconda3\\envs\\pipWindows_ml_color\\lib\\site-packages\\keras\\engine\\training.py\", line 1564, in fit\n      tmp_logs = self.train_function(iterator)\n    File \"C:\\Python\\anaconda3\\envs\\pipWindows_ml_color\\lib\\site-packages\\keras\\engine\\training.py\", line 1160, in train_function\n      return step_function(self, iterator)\n    File \"C:\\Python\\anaconda3\\envs\\pipWindows_ml_color\\lib\\site-packages\\keras\\engine\\training.py\", line 1146, in step_function\n      outputs = model.distribute_strategy.run(run_step, args=(data,))\n    File \"C:\\Python\\anaconda3\\envs\\pipWindows_ml_color\\lib\\site-packages\\keras\\engine\\training.py\", line 1135, in run_step\n      outputs = model.train_step(data)\n    File \"C:\\Python\\anaconda3\\envs\\pipWindows_ml_color\\lib\\site-packages\\keras\\engine\\training.py\", line 993, in train_step\n      y_pred = self(x, training=True)\n    File \"C:\\Python\\anaconda3\\envs\\pipWindows_ml_color\\lib\\site-packages\\keras\\utils\\traceback_utils.py\", line 65, in error_handler\n      return fn(*args, **kwargs)\n    File \"C:\\Python\\anaconda3\\envs\\pipWindows_ml_color\\lib\\site-packages\\keras\\engine\\training.py\", line 557, in __call__\n      return super().__call__(*args, **kwargs)\n    File \"C:\\Python\\anaconda3\\envs\\pipWindows_ml_color\\lib\\site-packages\\keras\\utils\\traceback_utils.py\", line 65, in error_handler\n      return fn(*args, **kwargs)\n    File \"C:\\Python\\anaconda3\\envs\\pipWindows_ml_color\\lib\\site-packages\\keras\\engine\\base_layer.py\", line 1097, in __call__\n      outputs = call_fn(inputs, *args, **kwargs)\n    File \"C:\\Python\\anaconda3\\envs\\pipWindows_ml_color\\lib\\site-packages\\keras\\utils\\traceback_utils.py\", line 96, in error_handler\n      return fn(*args, **kwargs)\n    File \"C:\\Python\\anaconda3\\envs\\pipWindows_ml_color\\lib\\site-packages\\keras\\engine\\functional.py\", line 510, in call\n      return self._run_internal_graph(inputs, training=training, mask=mask)\n    File \"C:\\Python\\anaconda3\\envs\\pipWindows_ml_color\\lib\\site-packages\\keras\\engine\\functional.py\", line 667, in _run_internal_graph\n      outputs = node.layer(*args, **kwargs)\n    File \"C:\\Python\\anaconda3\\envs\\pipWindows_ml_color\\lib\\site-packages\\keras\\utils\\traceback_utils.py\", line 65, in error_handler\n      return fn(*args, **kwargs)\n    File \"C:\\Python\\anaconda3\\envs\\pipWindows_ml_color\\lib\\site-packages\\keras\\engine\\base_layer.py\", line 1097, in __call__\n      outputs = call_fn(inputs, *args, **kwargs)\n    File \"C:\\Python\\anaconda3\\envs\\pipWindows_ml_color\\lib\\site-packages\\keras\\utils\\traceback_utils.py\", line 96, in error_handler\n      return fn(*args, **kwargs)\n    File \"C:\\Python\\anaconda3\\envs\\pipWindows_ml_color\\lib\\site-packages\\keras\\layers\\convolutional\\base_conv.py\", line 314, in call\n      return self.activation(outputs)\n    File \"C:\\Python\\anaconda3\\envs\\pipWindows_ml_color\\lib\\site-packages\\keras\\activations.py\", line 317, in relu\n      return backend.relu(\n    File \"C:\\Python\\anaconda3\\envs\\pipWindows_ml_color\\lib\\site-packages\\keras\\backend.py\", line 5366, in relu\n      x = tf.nn.relu(x)\nNode: 'model_8/conv2d_51/Relu'\n2 root error(s) found.\n  (0) RESOURCE_EXHAUSTED:  OOM when allocating tensor with shape[1,64,2048,1400] and type float on /job:localhost/replica:0/task:0/device:GPU:0 by allocator GPU_0_bfc\n\t [[{{node model_8/conv2d_51/Relu}}]]\nHint: If you want to see a list of allocated tensors when OOM happens, add report_tensor_allocations_upon_oom to RunOptions for current allocation info. This isn't available when running in Eager mode.\n\n\t [[Cast_3/_30]]\nHint: If you want to see a list of allocated tensors when OOM happens, add report_tensor_allocations_upon_oom to RunOptions for current allocation info. This isn't available when running in Eager mode.\n\n  (1) RESOURCE_EXHAUSTED:  OOM when allocating tensor with shape[1,64,2048,1400] and type float on /job:localhost/replica:0/task:0/device:GPU:0 by allocator GPU_0_bfc\n\t [[{{node model_8/conv2d_51/Relu}}]]\nHint: If you want to see a list of allocated tensors when OOM happens, add report_tensor_allocations_upon_oom to RunOptions for current allocation info. This isn't available when running in Eager mode.\n\n0 successful operations.\n0 derived errors ignored. [Op:__inference_train_function_8247]"
     ]
    }
   ],
   "source": [
    "import math\n",
    "steps_per_epoch = math.ceil(len(bw_train_files) / batch_size)\n",
    "validation_steps = math.ceil(len(bw_val_files) / batch_size)\n",
    "\n",
    "# 3. Train the model\n",
    "with tf.device('/GPU:0'):\n",
    "    history = model.fit(\n",
    "        train_generator,\n",
    "        validation_data=val_generator,\n",
    "        steps_per_epoch=steps_per_epoch,\n",
    "        validation_steps=validation_steps,\n",
    "        epochs=1,\n",
    "        verbose=1\n",
    "    )"
   ]
  },
  {
   "cell_type": "code",
   "execution_count": null,
   "id": "89d7a825",
   "metadata": {},
   "outputs": [],
   "source": []
  },
  {
   "cell_type": "code",
   "execution_count": null,
   "id": "b770ac07",
   "metadata": {},
   "outputs": [],
   "source": []
  }
 ],
 "metadata": {
  "kernelspec": {
   "display_name": "Python 3 (ipykernel)",
   "language": "python",
   "name": "python3"
  },
  "language_info": {
   "codemirror_mode": {
    "name": "ipython",
    "version": 3
   },
   "file_extension": ".py",
   "mimetype": "text/x-python",
   "name": "python",
   "nbconvert_exporter": "python",
   "pygments_lexer": "ipython3",
   "version": "3.9.17"
  }
 },
 "nbformat": 4,
 "nbformat_minor": 5
}
